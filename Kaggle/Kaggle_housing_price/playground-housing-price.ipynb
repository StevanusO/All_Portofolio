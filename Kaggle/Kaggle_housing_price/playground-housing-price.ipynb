{
 "cells": [
  {
   "cell_type": "code",
   "execution_count": null,
   "metadata": {
    "execution": {
     "iopub.execute_input": "2025-05-06T08:20:18.964478Z",
     "iopub.status.busy": "2025-05-06T08:20:18.964023Z",
     "iopub.status.idle": "2025-05-06T08:20:18.978723Z",
     "shell.execute_reply": "2025-05-06T08:20:18.977540Z",
     "shell.execute_reply.started": "2025-05-06T08:20:18.964420Z"
    },
    "trusted": true
   },
   "outputs": [],
   "source": [
    "import numpy as np\n",
    "import pandas as pd\n",
    "import matplotlib.pyplot as plt\n",
    "import seaborn as sns\n",
    "from scipy.stats import norm, probplot\n",
    "from sklearn.preprocessing import PowerTransformer, OrdinalEncoder, OneHotEncoder, RobustScaler\n",
    "\n",
    "from sklearn.linear_model import ElasticNet\n",
    "from sklearn.ensemble import RandomForestRegressor\n",
    "from xgboost import XGBRegressor\n",
    "from lightgbm import LGBMRegressor\n",
    "from sklearn.metrics import mean_squared_error\n",
    "\n",
    "from skopt import BayesSearchCV\n",
    "from skopt.space import Real, Integer, Categorical\n",
    "from sklearn.model_selection import KFold\n",
    "\n",
    "%matplotlib inline\n",
    "\n",
    "pd.set_option('display.max_columns', None)\n",
    "pd.set_option('display.max_rows', None)\n",
    "\n",
    "import warnings\n",
    "warnings.simplefilter(action='ignore', category=FutureWarning)"
   ]
  },
  {
   "cell_type": "markdown",
   "metadata": {},
   "source": [
    "# Load Dataset"
   ]
  },
  {
   "cell_type": "code",
   "execution_count": null,
   "metadata": {
    "execution": {
     "iopub.execute_input": "2025-05-06T07:42:26.083286Z",
     "iopub.status.busy": "2025-05-06T07:42:26.082151Z",
     "iopub.status.idle": "2025-05-06T07:42:26.140587Z",
     "shell.execute_reply": "2025-05-06T07:42:26.139535Z",
     "shell.execute_reply.started": "2025-05-06T07:42:26.083258Z"
    },
    "trusted": true
   },
   "outputs": [],
   "source": [
    "train = pd.read_csv('train.csv',index_col=0)\n",
    "test = pd.read_csv('test.csv', index_col=0)\n",
    "\n",
    "print(f\"Train Set shape: {train.shape}\") #(1460, 80)\n",
    "print(f\"Test set shape: {test.shape}\") #(1459, 79)\n"
   ]
  },
  {
   "cell_type": "code",
   "execution_count": null,
   "metadata": {
    "execution": {
     "iopub.execute_input": "2025-05-06T07:42:26.143375Z",
     "iopub.status.busy": "2025-05-06T07:42:26.143062Z",
     "iopub.status.idle": "2025-05-06T07:42:26.150490Z",
     "shell.execute_reply": "2025-05-06T07:42:26.149428Z",
     "shell.execute_reply.started": "2025-05-06T07:42:26.143348Z"
    },
    "trusted": true
   },
   "outputs": [],
   "source": [
    "num_features = ['LotFrontage', 'LotArea', 'MasVnrArea', 'BsmtFinSF1', 'BsmtFinSF2', 'BsmtUnfSF', 'TotalBsmtSF', 'FullBath', 'HalfBath', 'BsmtFullBath', 'GarageCars', 'BsmtHalfBath', '1stFlrSF', '2ndFlrSF', 'LowQualFinSF', 'GrLivArea', 'GarageArea', 'WoodDeckSF', 'OpenPorchSF', 'EnclosedPorch', '3SsnPorch', 'ScreenPorch', 'PoolArea', 'MiscVal',  'Bedroom', 'Kitchen', 'TotRmsAbvGrd', 'Fireplaces']\n",
    "cat_nom_features = ['MSSubClass', 'MSZoning', 'Street', 'Alley', 'LotShape', 'LandContour', 'Utilities', 'LotConfig', 'LandSlope', 'Neighborhood', 'Condition1', 'Condition2', 'BldgType', 'HouseStyle', 'RoofStyle', 'RoofMatl', 'Exterior1st', 'Exterior2nd', 'MasVnrType', 'Foundation', 'Heating', 'CentralAir', 'Electrical', 'Functional', 'GarageType', 'GarageFinish', 'PavedDrive', 'MiscFeature', 'SaleType', 'SaleCondition']\n",
    "cat_ord_features = ['OverallQual', 'OverallCond', 'ExterQual', 'ExterCond', 'BsmtQual', 'BsmtCond', 'BsmtExposure', 'BsmtFinType1','BsmtFinType2',  'HeatingQC', 'KitchenQual', 'FireplaceQu', 'GarageQual', 'GarageCond', 'PoolQC', 'Fence']\n",
    "\n",
    "# 'FullBath', 'HalfBath', 'BsmtFullBath', 'BsmtHalfBath', 'YearBuilt', 'YearRemodAdd', 'GarageYrBlt', 'GarageCars', 'MoSold', 'YrSold'\n",
    "\n",
    "\n",
    "print(len(num_features+cat_nom_features+cat_ord_features))"
   ]
  },
  {
   "cell_type": "code",
   "execution_count": null,
   "metadata": {
    "execution": {
     "iopub.execute_input": "2025-05-06T07:42:26.151627Z",
     "iopub.status.busy": "2025-05-06T07:42:26.151327Z",
     "iopub.status.idle": "2025-05-06T07:42:26.209287Z",
     "shell.execute_reply": "2025-05-06T07:42:26.208420Z",
     "shell.execute_reply.started": "2025-05-06T07:42:26.151604Z"
    },
    "trusted": true
   },
   "outputs": [],
   "source": [
    "train.head()"
   ]
  },
  {
   "cell_type": "code",
   "execution_count": null,
   "metadata": {
    "execution": {
     "iopub.execute_input": "2025-05-06T07:42:26.210358Z",
     "iopub.status.busy": "2025-05-06T07:42:26.210103Z",
     "iopub.status.idle": "2025-05-06T07:42:26.228995Z",
     "shell.execute_reply": "2025-05-06T07:42:26.227859Z",
     "shell.execute_reply.started": "2025-05-06T07:42:26.210335Z"
    },
    "trusted": true
   },
   "outputs": [],
   "source": [
    "train.info()"
   ]
  },
  {
   "cell_type": "code",
   "execution_count": null,
   "metadata": {
    "execution": {
     "iopub.execute_input": "2025-05-06T07:42:26.230218Z",
     "iopub.status.busy": "2025-05-06T07:42:26.229933Z",
     "iopub.status.idle": "2025-05-06T07:42:26.495281Z",
     "shell.execute_reply": "2025-05-06T07:42:26.494365Z",
     "shell.execute_reply.started": "2025-05-06T07:42:26.230193Z"
    },
    "trusted": true
   },
   "outputs": [],
   "source": [
    "train.describe(include='all').T"
   ]
  },
  {
   "cell_type": "markdown",
   "metadata": {},
   "source": [
    "# Data Cleansing/Preprocessing"
   ]
  },
  {
   "cell_type": "markdown",
   "metadata": {},
   "source": [
    "## Train Set"
   ]
  },
  {
   "cell_type": "code",
   "execution_count": null,
   "metadata": {
    "execution": {
     "iopub.execute_input": "2025-05-06T07:42:26.496526Z",
     "iopub.status.busy": "2025-05-06T07:42:26.496199Z",
     "iopub.status.idle": "2025-05-06T07:42:26.954482Z",
     "shell.execute_reply": "2025-05-06T07:42:26.953395Z",
     "shell.execute_reply.started": "2025-05-06T07:42:26.496490Z"
    },
    "trusted": true
   },
   "outputs": [],
   "source": [
    "missing = train.isna().sum()\n",
    "missing = missing[missing > 0].sort_values(ascending=False)\n",
    "missing_df = missing.reset_index()\n",
    "missing_df.columns = ['Feature', 'MissingCount']\n",
    "\n",
    "\n",
    "plt.figure(figsize=(12, 10))\n",
    "ax = sns.barplot(data=missing_df, x='Feature', y='MissingCount')\n",
    "\n",
    "ax.bar_label(ax.containers[0], fontsize=10)\n",
    "\n",
    "\n",
    "plt.title(\"Missing Value Distribution in Train Set\")\n",
    "plt.xlabel('Feature/Column')\n",
    "plt.ylabel('Count')\n",
    "plt.xticks(rotation=90)\n",
    "plt.grid(axis='y')\n",
    "plt.tight_layout()\n",
    "plt.show()"
   ]
  },
  {
   "cell_type": "markdown",
   "metadata": {},
   "source": [
    "### Handle Missing Category Data"
   ]
  },
  {
   "cell_type": "code",
   "execution_count": null,
   "metadata": {
    "execution": {
     "iopub.execute_input": "2025-05-06T07:42:26.956241Z",
     "iopub.status.busy": "2025-05-06T07:42:26.955933Z",
     "iopub.status.idle": "2025-05-06T07:42:26.961957Z",
     "shell.execute_reply": "2025-05-06T07:42:26.961031Z",
     "shell.execute_reply.started": "2025-05-06T07:42:26.956215Z"
    },
    "trusted": true
   },
   "outputs": [],
   "source": [
    "print(\"====================Category Nominal====================\")\n",
    "cat_nom_missing = [i for i in missing.index if i in cat_nom_features]\n",
    "print(cat_nom_missing)\n",
    "print(\"====================Category Ordinal====================\")\n",
    "cat_ord_missing = [i for i in missing.index if i in cat_ord_features]\n",
    "print(cat_ord_missing)"
   ]
  },
  {
   "cell_type": "markdown",
   "metadata": {},
   "source": [
    "Based on 'data_description.txt' this feature in Nominal/ordinal category has a valid value of NA/None:  \n",
    "'Alley', 'MasVnrType', 'BsmtQual', 'BsmtCond', 'BsmtExposure', 'BsmtFinType1', 'BsmtFinType2', 'FireplaceQu', 'GarageType', 'GarageFinish', 'GarageQual', 'GarageCond', 'PoolQC', 'Fence', 'MiscFeature'"
   ]
  },
  {
   "cell_type": "code",
   "execution_count": null,
   "metadata": {
    "execution": {
     "iopub.execute_input": "2025-05-06T07:42:26.963238Z",
     "iopub.status.busy": "2025-05-06T07:42:26.962889Z",
     "iopub.status.idle": "2025-05-06T07:42:26.987520Z",
     "shell.execute_reply": "2025-05-06T07:42:26.986531Z",
     "shell.execute_reply.started": "2025-05-06T07:42:26.963205Z"
    },
    "trusted": true
   },
   "outputs": [],
   "source": [
    "valid_none_features = ['Alley', 'MasVnrType', 'BsmtQual', 'BsmtCond', 'BsmtExposure', 'BsmtFinType1', 'BsmtFinType2', 'FireplaceQu', 'GarageType', 'GarageFinish', 'GarageQual', 'GarageCond', 'PoolQC', 'Fence', 'MiscFeature']\n",
    "print('Valid None/NA features based on `data_description.txt`', valid_none_features, '\\n=====\\nTotal none category:', len(valid_none_features))"
   ]
  },
  {
   "cell_type": "code",
   "execution_count": null,
   "metadata": {
    "execution": {
     "iopub.execute_input": "2025-05-06T07:42:26.989039Z",
     "iopub.status.busy": "2025-05-06T07:42:26.988669Z",
     "iopub.status.idle": "2025-05-06T07:42:27.008547Z",
     "shell.execute_reply": "2025-05-06T07:42:27.007445Z",
     "shell.execute_reply.started": "2025-05-06T07:42:26.989014Z"
    },
    "trusted": true
   },
   "outputs": [],
   "source": [
    "none_to_zero_map = {\n",
    "    'MasVnrType': ['MasVnrArea'],\n",
    "    'BsmtFinType1': ['BsmtFinSF1'],\n",
    "    'BsmtFinType2': ['BsmtFinSF2'],\n",
    "    'BsmtQual': ['TotalBsmtSF', 'BsmtUnfSF'],\n",
    "    'FireplaceQu': ['Fireplaces'],\n",
    "    'GarageType': ['GarageCars', 'GarageArea'],\n",
    "    'PoolQC': ['PoolArea'],\n",
    "    'MiscFeature': ['MiscVal']\n",
    "}\n",
    "\n",
    "zero_to_none_map = {num: cat for cat, nums in none_to_zero_map.items() for num in nums}"
   ]
  },
  {
   "cell_type": "code",
   "execution_count": null,
   "metadata": {
    "execution": {
     "iopub.execute_input": "2025-05-06T07:42:27.009945Z",
     "iopub.status.busy": "2025-05-06T07:42:27.009642Z",
     "iopub.status.idle": "2025-05-06T07:42:27.036800Z",
     "shell.execute_reply": "2025-05-06T07:42:27.035804Z",
     "shell.execute_reply.started": "2025-05-06T07:42:27.009907Z"
    },
    "trusted": true
   },
   "outputs": [],
   "source": [
    "train[valid_none_features].isna().sum()"
   ]
  },
  {
   "cell_type": "code",
   "execution_count": null,
   "metadata": {
    "execution": {
     "iopub.execute_input": "2025-05-06T07:42:27.041622Z",
     "iopub.status.busy": "2025-05-06T07:42:27.041292Z",
     "iopub.status.idle": "2025-05-06T07:42:27.067981Z",
     "shell.execute_reply": "2025-05-06T07:42:27.066842Z",
     "shell.execute_reply.started": "2025-05-06T07:42:27.041595Z"
    },
    "trusted": true
   },
   "outputs": [],
   "source": [
    "# print(f\"Train Valid None before filled:\\nTrain\\n{train[valid_none_features].isna().sum()}\\n\\nTest\\n{test[valid_none_features].isna().sum()}\\n\\n\")\n",
    "for col in valid_none_features:\n",
    "    if col in train.columns.values:\n",
    "        train[col].fillna('None', inplace=True)\n",
    "        test[col].fillna('None', inplace=True)\n",
    "# print(f\"Train Valid None after filled:\\nTrain\\n{train[valid_none_features].isna().sum()}\\n\\nTest\\n{test[valid_none_features].isna().sum()}\")\n"
   ]
  },
  {
   "cell_type": "code",
   "execution_count": null,
   "metadata": {
    "execution": {
     "iopub.execute_input": "2025-05-06T07:42:27.069886Z",
     "iopub.status.busy": "2025-05-06T07:42:27.069181Z",
     "iopub.status.idle": "2025-05-06T07:42:27.093757Z",
     "shell.execute_reply": "2025-05-06T07:42:27.092555Z",
     "shell.execute_reply.started": "2025-05-06T07:42:27.069847Z"
    },
    "trusted": true
   },
   "outputs": [],
   "source": [
    "# Filled numerical feature that has realtion with nominal/ordinal with valid None/NA value with 0\n",
    "for nominal_col, numeric_cols in none_to_zero_map.items():\n",
    "    for numeric_col in numeric_cols:\n",
    "        print(numeric_col)\n",
    "        mask = (train[numeric_col].isnull()) & (train[nominal_col] == 'None')\n",
    "        if mask.sum() > 0:\n",
    "            train.loc[mask, numeric_col] = 0\n",
    "            print(f\"[Train Set] Filled {mask.sum()} missing in '{numeric_col}' with 0 based on '{nominal_col}' = 'None'\")\n",
    "\n",
    "        mask = (test[numeric_col].isnull()) & (test[nominal_col] == 'None')\n",
    "        if mask.sum() > 0:\n",
    "            test.loc[mask, numeric_col] = 0\n",
    "            print(f\"[Test Set] Filled {mask.sum()} missing in '{numeric_col}' with 0 based on '{nominal_col}' = 'None'\")\n",
    "        print(\"======================================\")"
   ]
  },
  {
   "cell_type": "code",
   "execution_count": null,
   "metadata": {
    "execution": {
     "iopub.execute_input": "2025-05-06T07:42:27.095021Z",
     "iopub.status.busy": "2025-05-06T07:42:27.094738Z",
     "iopub.status.idle": "2025-05-06T07:42:27.125000Z",
     "shell.execute_reply": "2025-05-06T07:42:27.123984Z",
     "shell.execute_reply.started": "2025-05-06T07:42:27.094998Z"
    },
    "trusted": true
   },
   "outputs": [],
   "source": [
    "for numeric_col, nominal_cols in none_to_zero_map.items():\n",
    "    for nominal_col in nominal_cols:\n",
    "        print(nominal_col)\n",
    "        mask = (train[nominal_col].isnull()) & (train[nominal_col] == 'None')\n",
    "        if mask.sum() > 0:\n",
    "            train.loc[mask, nominal_col] = 'None'\n",
    "            print(f\"Filled {mask.sum()} missing in '{nominal_col}' with 'None' based on '{numeric_cols}' = 0\")\n",
    "\n",
    "        \n",
    "        mask = (test[nominal_col].isnull()) & (test[nominal_col] == 'None')\n",
    "        if mask.sum() > 0:\n",
    "            test.loc[mask, nominal_col] = 'None'\n",
    "            print(f\"Filled {mask.sum()} missing in '{nominal_col}' with 'None' based on '{numeric_cols}' = 0\")\n",
    "        print(\"======================================\")"
   ]
  },
  {
   "cell_type": "code",
   "execution_count": null,
   "metadata": {
    "execution": {
     "iopub.execute_input": "2025-05-06T07:42:27.126249Z",
     "iopub.status.busy": "2025-05-06T07:42:27.126001Z",
     "iopub.status.idle": "2025-05-06T07:42:27.192004Z",
     "shell.execute_reply": "2025-05-06T07:42:27.191007Z",
     "shell.execute_reply.started": "2025-05-06T07:42:27.126229Z"
    },
    "trusted": true
   },
   "outputs": [],
   "source": [
    "### GarageYrBuilt\n",
    "# If GarageType is not present or None/NA then we can safely assume the house doesn't have a garage\n",
    "# Else if present we can safely assumed it was built when the house is built.\n",
    "train['GarageYrBlt'] = train.apply(\n",
    "    lambda row: 0 if pd.isna(row['GarageType']) \\\n",
    "    else (\n",
    "        row['YearBuilt'] if pd.isna(row['GarageYrBlt']) \\\n",
    "        else row['GarageYrBlt']\n",
    "    ), \n",
    "    axis=1\n",
    ")\n",
    "\n",
    "test['GarageYrBlt'] = test.apply(\n",
    "    lambda row: 0 if pd.isna(row['GarageType']) \\\n",
    "    else (\n",
    "        row['YearBuilt'] if pd.isna(row['GarageYrBlt']) \\\n",
    "        else row['GarageYrBlt']\n",
    "    ), \n",
    "    axis=1\n",
    ")\n",
    "### Electrical\n",
    "neighborhood_mode = train.groupby(by=['Neighborhood'])['Electrical'].agg(lambda x: x.value_counts().index[0])\n",
    "global_mode = train['Electrical'].value_counts().index[0]\n",
    "missing_feature_neighborhood = train[train['Electrical'].isnull()][['Neighborhood']]\n",
    "missing_feature_neighborhood = missing_feature_neighborhood['Neighborhood'].unique().tolist()\n",
    "print(f\"Missing value in 'Electrical' to fix: {train['Electrical'].isnull().sum()}\")\n",
    "for hood in missing_feature_neighborhood:\n",
    "    input_mod = 0\n",
    "    local_neigh_mod = neighborhood_mode.loc[hood]\n",
    "    if local_neigh_mod == 0 or local_neigh_mod == None or local_neigh_mod == '0':\n",
    "        input_mod = global_mode\n",
    "    else:\n",
    "        input_mod = local_neigh_mod\n",
    "    mask = (train['Electrical'].isnull()) & (train['Neighborhood'] == hood)\n",
    "\n",
    "    train.loc[mask, 'Electrical'] = input_mod\n",
    "print(f\"Missing value in 'Electrical' after fix: {train['Electrical'].isnull().sum()}\")\n",
    "print(\"###############\")\n",
    "\n"
   ]
  },
  {
   "cell_type": "markdown",
   "metadata": {},
   "source": [
    "### Handle Missing Numerical Data"
   ]
  },
  {
   "cell_type": "code",
   "execution_count": null,
   "metadata": {
    "execution": {
     "iopub.execute_input": "2025-05-06T07:42:27.193124Z",
     "iopub.status.busy": "2025-05-06T07:42:27.192896Z",
     "iopub.status.idle": "2025-05-06T07:42:27.199181Z",
     "shell.execute_reply": "2025-05-06T07:42:27.197491Z",
     "shell.execute_reply.started": "2025-05-06T07:42:27.193104Z"
    },
    "trusted": true
   },
   "outputs": [],
   "source": [
    "print(\"=======================Numerical========================\")\n",
    "num_missing = [i for i in missing.index if i in num_features]\n",
    "print(num_missing)"
   ]
  },
  {
   "cell_type": "code",
   "execution_count": null,
   "metadata": {
    "execution": {
     "iopub.execute_input": "2025-05-06T07:42:27.201586Z",
     "iopub.status.busy": "2025-05-06T07:42:27.201206Z",
     "iopub.status.idle": "2025-05-06T07:42:27.253502Z",
     "shell.execute_reply": "2025-05-06T07:42:27.252506Z",
     "shell.execute_reply.started": "2025-05-06T07:42:27.201556Z"
    },
    "trusted": true
   },
   "outputs": [],
   "source": [
    "for col in num_missing:\n",
    "    neighborhood_median = train.groupby(by=['Neighborhood'])[col].median()\n",
    "    global_median = train[col].median()\n",
    "    missing_feature_neighborhood = train[train[col].isnull()][['Neighborhood']]\n",
    "    missing_feature_neighborhood = missing_feature_neighborhood['Neighborhood'].unique().tolist()\n",
    "    print(f\"Missing value in {col} to fix: {train[col].isnull().sum()}\")\n",
    "    for hood in missing_feature_neighborhood:\n",
    "        input_med = 0\n",
    "        # print(f\"Current Neighborhood: {hood}\")\n",
    "        local_neigh_med = neighborhood_median.loc[hood]\n",
    "        # print(f\"Global Median: {global_median} | {hood} Median: {local_neigh_med}\")\n",
    "        if local_neigh_med == 0 or local_neigh_med == None or local_neigh_med == '0':\n",
    "            # print(f\"{hood} median is {local_neigh_med}, changed plan to use global median: {global_median}\")\n",
    "            input_med = global_median\n",
    "        else:\n",
    "            input_med = local_neigh_med\n",
    "        mask = (train[col].isnull()) & (train['Neighborhood'] == hood)\n",
    "    \n",
    "        train.loc[mask, col] = input_med\n",
    "    print(f\"Missing value in {col} after fix: {train[col].isnull().sum()}\")\n",
    "    print(\"###############\")\n",
    "\n"
   ]
  },
  {
   "cell_type": "code",
   "execution_count": null,
   "metadata": {
    "execution": {
     "iopub.execute_input": "2025-05-06T07:42:27.254856Z",
     "iopub.status.busy": "2025-05-06T07:42:27.254554Z",
     "iopub.status.idle": "2025-05-06T07:42:27.265558Z",
     "shell.execute_reply": "2025-05-06T07:42:27.264604Z",
     "shell.execute_reply.started": "2025-05-06T07:42:27.254830Z"
    },
    "trusted": true
   },
   "outputs": [],
   "source": [
    "train.isna().sum().sum()"
   ]
  },
  {
   "cell_type": "markdown",
   "metadata": {},
   "source": [
    "## Test Set"
   ]
  },
  {
   "cell_type": "code",
   "execution_count": null,
   "metadata": {
    "execution": {
     "iopub.execute_input": "2025-05-06T07:42:27.267161Z",
     "iopub.status.busy": "2025-05-06T07:42:27.266843Z",
     "iopub.status.idle": "2025-05-06T07:42:27.633445Z",
     "shell.execute_reply": "2025-05-06T07:42:27.632573Z",
     "shell.execute_reply.started": "2025-05-06T07:42:27.267133Z"
    },
    "trusted": true
   },
   "outputs": [],
   "source": [
    "missing = test.isna().sum()\n",
    "missing = missing[missing > 0].sort_values(ascending=False)\n",
    "missing_df = missing.reset_index()\n",
    "missing_df.columns = ['Feature', 'MissingCount']\n",
    "\n",
    "\n",
    "plt.figure(figsize=(12, 10))\n",
    "ax = sns.barplot(data=missing_df, x='Feature', y='MissingCount')\n",
    "\n",
    "ax.bar_label(ax.containers[0], fontsize=10)\n",
    "\n",
    "\n",
    "plt.title(\"Missing Value Distribution in Train Set\")\n",
    "plt.xlabel('Feature/Column')\n",
    "plt.ylabel('Count')\n",
    "plt.xticks(rotation=90)\n",
    "plt.grid(axis='y')\n",
    "plt.tight_layout()\n",
    "plt.show()"
   ]
  },
  {
   "cell_type": "markdown",
   "metadata": {},
   "source": [
    "### Handle Missing Category Data"
   ]
  },
  {
   "cell_type": "code",
   "execution_count": null,
   "metadata": {
    "execution": {
     "iopub.execute_input": "2025-05-06T07:42:27.634672Z",
     "iopub.status.busy": "2025-05-06T07:42:27.634332Z",
     "iopub.status.idle": "2025-05-06T07:42:27.640312Z",
     "shell.execute_reply": "2025-05-06T07:42:27.639612Z",
     "shell.execute_reply.started": "2025-05-06T07:42:27.634648Z"
    },
    "trusted": true
   },
   "outputs": [],
   "source": [
    "print(\"====================Category Nominal====================\")\n",
    "cat_nom_missing = [i for i in missing.index if i in cat_nom_features]\n",
    "print(cat_nom_missing)\n",
    "print(\"====================Category Ordinal====================\")\n",
    "cat_ord_missing = [i for i in missing.index if i in cat_ord_features]\n",
    "print(cat_ord_missing)"
   ]
  },
  {
   "cell_type": "code",
   "execution_count": null,
   "metadata": {
    "execution": {
     "iopub.execute_input": "2025-05-06T07:42:27.641717Z",
     "iopub.status.busy": "2025-05-06T07:42:27.641365Z",
     "iopub.status.idle": "2025-05-06T07:42:27.719378Z",
     "shell.execute_reply": "2025-05-06T07:42:27.718311Z",
     "shell.execute_reply.started": "2025-05-06T07:42:27.641686Z"
    },
    "trusted": true
   },
   "outputs": [],
   "source": [
    "for col in cat_nom_missing:\n",
    "    neighborhood_mode = train.groupby(by=['Neighborhood'])[col].agg(lambda x: x.value_counts().index[0])\n",
    "    global_mode = train[col].value_counts().index[0]\n",
    "    \n",
    "    missing_feature_neighborhood = test[test[col].isnull()][['Neighborhood']]\n",
    "    missing_feature_neighborhood = missing_feature_neighborhood['Neighborhood'].unique().tolist()\n",
    "    \n",
    "    print(f\"Missing value in '{col}' to fix: {test[col].isnull().sum()}\")\n",
    "    for hood in missing_feature_neighborhood:\n",
    "        input_mod = 0\n",
    "        local_neigh_mod = neighborhood_mode.loc[hood]\n",
    "        if local_neigh_mod == 0 or local_neigh_mod == None or local_neigh_mod == '0':\n",
    "            input_mod = global_mode\n",
    "        else:\n",
    "            input_mod = local_neigh_mod\n",
    "        mask = (test[col].isnull()) & (test['Neighborhood'] == hood)\n",
    "    \n",
    "        test.loc[mask, col] = input_mod\n",
    "    print(f\"Missing value in '{col}' after fix: {test[col].isnull().sum()}\")\n",
    "    print(\"###############\")"
   ]
  },
  {
   "cell_type": "code",
   "execution_count": null,
   "metadata": {
    "execution": {
     "iopub.execute_input": "2025-05-06T07:42:27.720567Z",
     "iopub.status.busy": "2025-05-06T07:42:27.720272Z",
     "iopub.status.idle": "2025-05-06T07:42:27.732413Z",
     "shell.execute_reply": "2025-05-06T07:42:27.731296Z",
     "shell.execute_reply.started": "2025-05-06T07:42:27.720540Z"
    },
    "trusted": true
   },
   "outputs": [],
   "source": [
    "test[test['KitchenQual'].isnull()][['Neighborhood', 'OverallQual', 'KitchenQual']]\n",
    "# test[test['OverallQual'] == 5][['Neighborhood', 'OverallQual', 'KitchenQual']].head()"
   ]
  },
  {
   "cell_type": "code",
   "execution_count": null,
   "metadata": {
    "execution": {
     "iopub.execute_input": "2025-05-06T07:42:27.733819Z",
     "iopub.status.busy": "2025-05-06T07:42:27.733507Z",
     "iopub.status.idle": "2025-05-06T07:42:27.785891Z",
     "shell.execute_reply": "2025-05-06T07:42:27.784841Z",
     "shell.execute_reply.started": "2025-05-06T07:42:27.733785Z"
    },
    "trusted": true
   },
   "outputs": [],
   "source": [
    "neigh_missing, overallqual_missing = test[test['KitchenQual'].isnull()][['Neighborhood', 'OverallQual']].values.tolist()[0]\n",
    "neigh_overall_mode = train.groupby(['Neighborhood', 'OverallQual'])['KitchenQual'].agg(lambda x: x.value_counts().index[0])\n",
    "input_mode = neigh_overall_mode.loc[(neigh_missing, overallqual_missing)]\n",
    "mask = (test['KitchenQual'].isnull()) & (test['Neighborhood'] == neigh_missing) & (test['OverallQual'] == overallqual_missing)\n",
    "test.loc[mask, 'KitchenQual'] = input_mode"
   ]
  },
  {
   "cell_type": "markdown",
   "metadata": {},
   "source": [
    "### Handle Missing Numerical "
   ]
  },
  {
   "cell_type": "code",
   "execution_count": null,
   "metadata": {
    "execution": {
     "iopub.execute_input": "2025-05-06T07:42:27.787128Z",
     "iopub.status.busy": "2025-05-06T07:42:27.786890Z",
     "iopub.status.idle": "2025-05-06T07:42:27.793260Z",
     "shell.execute_reply": "2025-05-06T07:42:27.792357Z",
     "shell.execute_reply.started": "2025-05-06T07:42:27.787102Z"
    },
    "trusted": true
   },
   "outputs": [],
   "source": [
    "print(\"=======================Numerical========================\")\n",
    "num_missing = [i for i in missing.index if i in num_features]\n",
    "print(num_missing)"
   ]
  },
  {
   "cell_type": "code",
   "execution_count": null,
   "metadata": {
    "execution": {
     "iopub.execute_input": "2025-05-06T07:42:27.794615Z",
     "iopub.status.busy": "2025-05-06T07:42:27.794254Z",
     "iopub.status.idle": "2025-05-06T07:42:27.848776Z",
     "shell.execute_reply": "2025-05-06T07:42:27.847671Z",
     "shell.execute_reply.started": "2025-05-06T07:42:27.794568Z"
    },
    "trusted": true
   },
   "outputs": [],
   "source": [
    "for col in num_missing:\n",
    "    neighborhood_median = train.groupby(by=['Neighborhood'])[col].median()\n",
    "    global_median = train[col].median()\n",
    "    \n",
    "    missing_feature_neighborhood = test[test[col].isnull()][['Neighborhood']]\n",
    "    missing_feature_neighborhood = missing_feature_neighborhood['Neighborhood'].unique().tolist()\n",
    "    print(f\"Missing value in {col} to fix: {test[col].isnull().sum()}\")\n",
    "    for hood in missing_feature_neighborhood:\n",
    "        input_med = 0\n",
    "        local_neigh_med = neighborhood_median.loc[hood]\n",
    "        if local_neigh_med == 0 or local_neigh_med == None or local_neigh_med == '0':\n",
    "            input_med = global_median\n",
    "        else:\n",
    "            input_med = local_neigh_med\n",
    "        mask = (test[col].isnull()) & (test['Neighborhood'] == hood)\n",
    "    \n",
    "        test.loc[mask, col] = input_med\n",
    "    print(f\"Missing value in {col} after fix: {test[col].isnull().sum()}\")\n",
    "    print(\"###############\")\n",
    "\n"
   ]
  },
  {
   "cell_type": "code",
   "execution_count": null,
   "metadata": {
    "execution": {
     "iopub.execute_input": "2025-05-06T07:42:27.850273Z",
     "iopub.status.busy": "2025-05-06T07:42:27.849926Z",
     "iopub.status.idle": "2025-05-06T07:42:27.861609Z",
     "shell.execute_reply": "2025-05-06T07:42:27.860749Z",
     "shell.execute_reply.started": "2025-05-06T07:42:27.850241Z"
    },
    "trusted": true
   },
   "outputs": [],
   "source": [
    "test.isnull().sum().sum()"
   ]
  },
  {
   "cell_type": "code",
   "execution_count": null,
   "metadata": {
    "execution": {
     "iopub.execute_input": "2025-05-06T07:42:27.863054Z",
     "iopub.status.busy": "2025-05-06T07:42:27.862683Z",
     "iopub.status.idle": "2025-05-06T07:42:27.882117Z",
     "shell.execute_reply": "2025-05-06T07:42:27.881129Z",
     "shell.execute_reply.started": "2025-05-06T07:42:27.863027Z"
    },
    "trusted": true
   },
   "outputs": [],
   "source": [
    "category_nominal_dictionary = {\n",
    "    'MSSubClass': [\n",
    "        20, 30, 40, 45, 50, 60, 70, 75, 80, 85, 90, 120, 150, 160, 180, 190\n",
    "    ],\n",
    "    'MSZoning': ['A', 'C (all)', 'FV', 'I', 'RH', 'RL', 'RP', 'RM'], # 'C'=>'C (all)'\n",
    "    'Street': ['Grvl', 'Pave'],\n",
    "    'Alley': ['Grvl', 'Pave', 'None'],\n",
    "    'LotShape': ['Reg', 'IR1', 'IR2', 'IR3'],\n",
    "    'LandContour': ['Lvl', 'Bnk', 'HLS', 'Low'],\n",
    "    'Utilities': ['AllPub', 'NoSewr', 'NoSeWa', 'ELO'],\n",
    "    'LotConfig': ['Inside', 'Corner', 'CulDSac', 'FR2', 'FR3'],\n",
    "    'LandSlope': ['Gtl', 'Mod', 'Sev'],\n",
    "    'Neighborhood': [\n",
    "        'Blmngtn', 'Blueste', 'BrDale', 'BrkSide', 'ClearCr', 'CollgCr', 'Crawfor', 'Edwards',\n",
    "        'Gilbert', 'IDOTRR', 'MeadowV', 'Mitchel', 'NAmes', 'NoRidge', 'NPkVill', 'NridgHt',\n",
    "        'NWAmes', 'OldTown', 'SWISU', 'Sawyer', 'SawyerW', 'Somerst', 'StoneBr', 'Timber', 'Veenker'\n",
    "    ],\n",
    "    'Condition1': ['Artery', 'Feedr', 'Norm', 'RRNn', 'RRAn', 'PosN', 'PosA', 'RRNe', 'RRAe'],\n",
    "    'Condition2': ['Artery', 'Feedr', 'Norm', 'RRNn', 'RRAn', 'PosN', 'PosA', 'RRNe', 'RRAe'],\n",
    "    'BldgType': ['1Fam', '2fmCon', 'Duplex', 'Twnhs', 'TwnhsI', 'TwnhsE'], # Twnhs category should not exist, based on data_description.txt\n",
    "    'HouseStyle': [\n",
    "        '1Story', '1.5Fin', '1.5Unf', '2Story', '2.5Fin', '2.5Unf', 'SFoyer', 'SLvl'\n",
    "    ],\n",
    "    'RoofStyle': ['Flat', 'Gable', 'Gambrel', 'Hip', 'Mansard', 'Shed'],\n",
    "    'RoofMatl': [\n",
    "        'ClyTile', 'CompShg', 'Membran', 'Metal', 'Roll', 'Tar&Grv', 'WdShake', 'WdShngl'\n",
    "    ],\n",
    "    'Exterior1st': [\n",
    "        'AsbShng', 'AsphShn', 'BrkComm', 'BrkFace', 'CBlock', 'CemntBd', 'HdBoard', 'ImStucc',\n",
    "        'MetalSd', 'Other', 'Plywood', 'PreCast', 'Stone', 'Stucco', 'VinylSd', 'Wd Sdng', 'WdShing'\n",
    "    ],\n",
    "    'Exterior2nd': [\n",
    "        'AsbShng', 'AsphShn', 'Brk Cmn', 'BrkFace', 'CBlock', 'CmentBd', 'HdBoard', 'ImStucc',\n",
    "        'MetalSd', 'Other', 'Plywood', 'PreCast', 'Stone', 'Stucco', 'VinylSd', 'Wd Sdng', 'Wd Shng'\n",
    "    ],# 'WdShing'=>'Wd Shng', 'CemntBd'=>'CmentBd', 'Brk Cmn'=>'BrkComm'\n",
    "    'MasVnrType': ['BrkCmn', 'BrkFace', 'CBlock', 'None', 'Stone'],\n",
    "    'Foundation': ['BrkTil', 'CBlock', 'PConc', 'Slab', 'Stone', 'Wood'],\n",
    "    'BsmtExposure': ['Gd', 'Av', 'Mn', 'No', 'None'],\n",
    "    'Heating': ['Floor', 'GasA', 'GasW', 'Grav', 'OthW', 'Wall'],\n",
    "    'CentralAir': ['N', 'Y'],\n",
    "    'Electrical': ['SBrkr', 'FuseA', 'FuseF', 'FuseP', 'Mix'],\n",
    "    'Functional': ['Typ', 'Min1', 'Min2', 'Mod', 'Maj1', 'Maj2', 'Sev', 'Sal'],\n",
    "    'GarageType': ['2Types', 'Attchd', 'Basment', 'BuiltIn', 'CarPort', 'Detchd', 'None'],\n",
    "    'GarageFinish': ['Fin', 'RFn', 'Unf', 'None'],\n",
    "    'PavedDrive': ['Y', 'P', 'N'],\n",
    "    'Fence': ['GdPrv', 'MnPrv', 'GdWo', 'MnWw', 'None'],\n",
    "    'MiscFeature': ['Elev', 'Gar2', 'Othr', 'Shed', 'TenC', 'None'],\n",
    "    'SaleType': ['WD', 'CWD', 'VWD', 'New', 'COD', 'Con', 'ConLw', 'ConLI', 'ConLD', 'Oth'],\n",
    "    'SaleCondition': ['Normal', 'Abnorml', 'AdjLand', 'Alloca', 'Family', 'Partial']\n",
    "}\n",
    "\n",
    "category_ordinal_dictionary = {\n",
    "'OverallQual': list(range(1, 11)),\n",
    "'OverallCond': list(range(1, 11)),\n",
    "'ExterQual': ['Po', 'Fa', 'TA', 'Gd', 'Ex'],\n",
    "'ExterCond': ['Po', 'Fa', 'TA', 'Gd', 'Ex'],\n",
    "'BsmtQual': ['None', 'Po', 'Fa', 'TA', 'Gd', 'Ex'],\n",
    "'BsmtCond': ['None', 'Po', 'Fa', 'TA', 'Gd', 'Ex'],\n",
    "'BsmtExposure': ['None', 'No', 'Mn', 'Av', 'Gd'],\n",
    "'BsmtFinType1': ['None', 'Unf', 'LwQ', 'Rec', 'BLQ', 'ALQ', 'GLQ'],\n",
    "'BsmtFinType2': ['None', 'Unf', 'LwQ', 'Rec', 'BLQ', 'ALQ', 'GLQ'],\n",
    "'HeatingQC': ['Po', 'Fa', 'TA', 'Gd', 'Ex'],\n",
    "'KitchenQual': ['Po', 'Fa', 'TA', 'Gd', 'Ex'],\n",
    "'FireplaceQu': ['None', 'Po', 'Fa', 'TA', 'Gd', 'Ex'],\n",
    "'GarageQual': ['None', 'Po', 'Fa', 'TA', 'Gd', 'Ex'],\n",
    "'GarageCond': ['None', 'Po', 'Fa', 'TA', 'Gd', 'Ex'],\n",
    "'PoolQC': ['None', 'Po', 'Fa', 'TA', 'Gd', 'Ex'],\n",
    "'FireplaceQu': ['None', 'Po', 'Fa', 'TA', 'Gd', 'Ex'],\n",
    "'Fence': ['None', 'MnWw', 'GdWo', 'MnPrv', 'GdPrv']\n",
    "}"
   ]
  },
  {
   "cell_type": "code",
   "execution_count": null,
   "metadata": {
    "execution": {
     "iopub.execute_input": "2025-05-06T07:42:27.883510Z",
     "iopub.status.busy": "2025-05-06T07:42:27.883158Z",
     "iopub.status.idle": "2025-05-06T07:42:27.962334Z",
     "shell.execute_reply": "2025-05-06T07:42:27.961309Z",
     "shell.execute_reply.started": "2025-05-06T07:42:27.883478Z"
    },
    "trusted": true
   },
   "outputs": [],
   "source": [
    "for col in cat_nom_features:\n",
    "    train[col] = train[col].astype('category')\n",
    "    test[col] = test[col].astype('category')\n",
    "    \n",
    "for col, order in category_ordinal_dictionary.items():\n",
    "    cat_type = pd.api.types.CategoricalDtype(categories=order, ordered=True)\n",
    "    train[col] = train[col].astype(cat_type)\n",
    "    test[col] = test[col].astype(cat_type)\n"
   ]
  },
  {
   "cell_type": "markdown",
   "metadata": {},
   "source": [
    "# Exploring"
   ]
  },
  {
   "cell_type": "code",
   "execution_count": null,
   "metadata": {
    "execution": {
     "iopub.execute_input": "2025-05-06T07:42:27.963553Z",
     "iopub.status.busy": "2025-05-06T07:42:27.963291Z",
     "iopub.status.idle": "2025-05-06T07:42:27.991769Z",
     "shell.execute_reply": "2025-05-06T07:42:27.990548Z",
     "shell.execute_reply.started": "2025-05-06T07:42:27.963534Z"
    },
    "trusted": true
   },
   "outputs": [],
   "source": [
    "train.info()"
   ]
  },
  {
   "cell_type": "code",
   "execution_count": null,
   "metadata": {
    "execution": {
     "iopub.execute_input": "2025-05-06T07:42:27.993082Z",
     "iopub.status.busy": "2025-05-06T07:42:27.992762Z",
     "iopub.status.idle": "2025-05-06T07:42:28.382846Z",
     "shell.execute_reply": "2025-05-06T07:42:28.381921Z",
     "shell.execute_reply.started": "2025-05-06T07:42:27.993057Z"
    },
    "trusted": true
   },
   "outputs": [],
   "source": [
    "plt.figure(figsize=(10, 7))\n",
    "sns.histplot(train['SalePrice'], kde=True, bins='auto', edgecolor='black', label='SalePrice Distribution', stat='density')\n",
    "\n",
    "mean = train['SalePrice'].mean()\n",
    "std = train['SalePrice'].std()\n",
    "xmin, xmax = plt.xlim()\n",
    "x = np.linspace(xmin, xmax, 100)\n",
    "p = norm.pdf(x, mean, std)\n",
    "plt.plot(x, p, 'r', linewidth=2, label='Normal Distribution')\n",
    "\n",
    "plt.grid(True, linestyle='-')\n",
    "plt.title(f\"Distribution of SalePrice | Skewness: {round(train['SalePrice'].skew(), 2)} | Kurtosis: {round(train['SalePrice'].kurtosis(), 2)}\")\n",
    "plt.xlabel('SalePrice')\n",
    "plt.ylabel('Frequency/Density')\n",
    "plt.legend()\n",
    "plt.show()"
   ]
  },
  {
   "cell_type": "code",
   "execution_count": null,
   "metadata": {
    "execution": {
     "iopub.execute_input": "2025-05-06T07:42:28.384160Z",
     "iopub.status.busy": "2025-05-06T07:42:28.383859Z",
     "iopub.status.idle": "2025-05-06T07:42:28.564065Z",
     "shell.execute_reply": "2025-05-06T07:42:28.563041Z",
     "shell.execute_reply.started": "2025-05-06T07:42:28.384137Z"
    },
    "trusted": true
   },
   "outputs": [],
   "source": [
    "Q1 = train['SalePrice'].quantile(0.25)\n",
    "Q3 = train['SalePrice'].quantile(0.75)\n",
    "IQR = Q3 - Q1\n",
    "lower_bound = Q1 - 1.5 * IQR\n",
    "upper_bound = Q3 + 1.5 * IQR\n",
    "\n",
    "plt.figure(figsize=(10, 6))\n",
    "ax = sns.boxplot(y=train['SalePrice'], flierprops=dict(markerfacecolor='red', marker='o'))\n",
    "\n",
    "plt.axhline(Q1, color='red', linestyle='--', label=f\"Q1 = {Q1:,.0f}\")\n",
    "plt.axhline(Q3, color='blue', linestyle='--', label=f\"Q3 = {Q3:,.0f}\")\n",
    "plt.axhline(lower_bound, color='purple', linestyle=':', label=f\"Lower Bound = {lower_bound:,.0f}\")\n",
    "plt.axhline(upper_bound, color='orange', linestyle=':', label=f\"Upper Bound = {upper_bound:,.0f}\")\n",
    "\n",
    "plt.text(0.02, Q1, f' Q1: {Q1:,.0f}', color='red', va='bottom')\n",
    "plt.text(0.02, Q3, f' Q3: {Q3:,.0f}', color='blue', va='top')\n",
    "plt.text(0.02, lower_bound, f' Lower: {lower_bound:,.0f}', color='purple', va='bottom')\n",
    "plt.text(0.02, upper_bound, f' Upper: {upper_bound:,.0f}', color='orange', va='top')\n",
    "\n",
    "\n",
    "plt.title('Boxplot of SalePrice', fontsize=14)\n",
    "plt.ylabel('Sale Price', fontsize=12)\n",
    "\n",
    "plt.show()"
   ]
  },
  {
   "cell_type": "code",
   "execution_count": null,
   "metadata": {
    "execution": {
     "iopub.execute_input": "2025-05-06T07:42:28.565353Z",
     "iopub.status.busy": "2025-05-06T07:42:28.564990Z",
     "iopub.status.idle": "2025-05-06T07:42:28.572553Z",
     "shell.execute_reply": "2025-05-06T07:42:28.571645Z",
     "shell.execute_reply.started": "2025-05-06T07:42:28.565319Z"
    },
    "trusted": true
   },
   "outputs": [],
   "source": [
    "num_features = train.select_dtypes(include=np.number).columns.tolist()"
   ]
  },
  {
   "cell_type": "code",
   "execution_count": null,
   "metadata": {
    "execution": {
     "iopub.execute_input": "2025-05-06T07:42:28.574286Z",
     "iopub.status.busy": "2025-05-06T07:42:28.573916Z",
     "iopub.status.idle": "2025-05-06T07:42:31.771226Z",
     "shell.execute_reply": "2025-05-06T07:42:31.770279Z",
     "shell.execute_reply.started": "2025-05-06T07:42:28.574252Z"
    },
    "trusted": true
   },
   "outputs": [],
   "source": [
    "num_corr = train[num_features].corr()\n",
    "plt.figure(figsize=(12, 10))\n",
    "sns.heatmap(num_corr, annot=True, fmt=\".2f\", vmin=-1, vmax=1, cmap=\"coolwarm\", linecolor='black', linewidths=0.3, square=True)\n",
    "plt.title('Correlation Matrix')"
   ]
  },
  {
   "cell_type": "code",
   "execution_count": null,
   "metadata": {
    "execution": {
     "iopub.execute_input": "2025-05-06T07:42:31.772701Z",
     "iopub.status.busy": "2025-05-06T07:42:31.772300Z",
     "iopub.status.idle": "2025-05-06T07:42:32.382998Z",
     "shell.execute_reply": "2025-05-06T07:42:32.381600Z",
     "shell.execute_reply.started": "2025-05-06T07:42:31.772662Z"
    },
    "trusted": true
   },
   "outputs": [],
   "source": [
    "plt.figure(figsize=(12, 10))\n",
    "sns.heatmap(num_corr[['SalePrice']].sort_values(by='SalePrice', ascending=False), annot=True, cmap=\"coolwarm\", fmt=\".2f\", linecolor='black', linewidths=0.5)\n",
    "plt.title('Correlation Matrix Zoomed on Dependant Variable')"
   ]
  },
  {
   "cell_type": "code",
   "execution_count": null,
   "metadata": {
    "execution": {
     "iopub.execute_input": "2025-05-06T07:42:32.384550Z",
     "iopub.status.busy": "2025-05-06T07:42:32.384127Z",
     "iopub.status.idle": "2025-05-06T07:42:32.392522Z",
     "shell.execute_reply": "2025-05-06T07:42:32.391527Z",
     "shell.execute_reply.started": "2025-05-06T07:42:32.384515Z"
    },
    "trusted": true
   },
   "outputs": [],
   "source": [
    "interest_features = num_corr.abs()[num_corr['SalePrice'] >= 0.3].index.tolist()\n",
    "# interest_features = interest_features[interest_features.index != 'SalePrice']\n",
    "candidate_corr_matrix = num_corr.loc[interest_features, interest_features]\n",
    "print(interest_features)"
   ]
  },
  {
   "cell_type": "code",
   "execution_count": null,
   "metadata": {
    "execution": {
     "iopub.execute_input": "2025-05-06T07:42:32.394187Z",
     "iopub.status.busy": "2025-05-06T07:42:32.393602Z",
     "iopub.status.idle": "2025-05-06T07:42:33.620855Z",
     "shell.execute_reply": "2025-05-06T07:42:33.619628Z",
     "shell.execute_reply.started": "2025-05-06T07:42:32.394161Z"
    },
    "trusted": true
   },
   "outputs": [],
   "source": [
    "plt.figure(figsize=(12, 10))\n",
    "sns.heatmap(candidate_corr_matrix.sort_values(by=\"SalePrice\", ascending=False), annot=True, fmt=\".2f\", vmin=-1, vmax=1, cmap=\"coolwarm\", linecolor='black', linewidths=0.3, square=True)\n",
    "plt.title('Correlation Matrix')"
   ]
  },
  {
   "cell_type": "markdown",
   "metadata": {},
   "source": [
    "GrLivArea (0.71 x SalePrice)   \n",
    "GarageArea (0.62 x SalePrice)  \n",
    "TotalBsmtSF (0.61 x SalePrice)  \n",
    "1stFlrSF (0.61 x SalePrice) x removed  \n",
    "FullBath (0.56 x SalePrice) x removed  \n",
    "TotRmsAbvGrd (0.53 x SalePrice) x removed  \n",
    "MasVnrArea (0.47 x SalePrice)  \n",
    "FirePlaces (0.47 x SalePrice)  x removed\n",
    "BsmtFinSF1 (0.39 x SalePrice) x removed  \n",
    "LotFrontage (0.35 x SalePrice)  \n",
    "WoodDeckSF (0.32 x SalePrice)  \n",
    "2ndFlrSF (0.32 x SalePrice) x removed  \n",
    "OpenPorchSF (0.32 x SalePrice)  \n",
    "  \n",
    "GrLivArea x TotRmsAbvGrd (0.83) (x)  \n",
    "GrLivArea x FullBath (0.63) (x)  \n",
    "GrLivArea x 2ndFlrSF (0.69)  \n",
    "GrLivArea x 1stFlrSF (0.57)  \n",
    "TotalBsmtSF x 1stFlrSF (0.82) (x)  \n",
    "TotalBsmtSF x BsmtFinSF1 (0.52) (x)  \n"
   ]
  },
  {
   "cell_type": "code",
   "execution_count": null,
   "metadata": {
    "execution": {
     "iopub.execute_input": "2025-05-06T07:42:33.622323Z",
     "iopub.status.busy": "2025-05-06T07:42:33.621968Z",
     "iopub.status.idle": "2025-05-06T07:42:33.627700Z",
     "shell.execute_reply": "2025-05-06T07:42:33.626750Z",
     "shell.execute_reply.started": "2025-05-06T07:42:33.622291Z"
    },
    "trusted": true
   },
   "outputs": [],
   "source": [
    "interest_features = ['GrLivArea', 'GarageArea', 'TotalBsmtSF', 'MasVnrArea', 'LotFrontage', 'WoodDeckSF', 'OpenPorchSF']"
   ]
  },
  {
   "cell_type": "code",
   "execution_count": null,
   "metadata": {
    "execution": {
     "iopub.execute_input": "2025-05-06T07:42:33.629207Z",
     "iopub.status.busy": "2025-05-06T07:42:33.628969Z",
     "iopub.status.idle": "2025-05-06T07:42:33.709722Z",
     "shell.execute_reply": "2025-05-06T07:42:33.708870Z",
     "shell.execute_reply.started": "2025-05-06T07:42:33.629186Z"
    },
    "trusted": true
   },
   "outputs": [],
   "source": [
    "temp = pd.DataFrame()\n",
    "pt = PowerTransformer(method='yeo-johnson', standardize=False)\n",
    "transformed_cols = [f\"{col}_transformed\" for col in interest_features]\n",
    "train[interest_features] = pt.fit_transform(train[interest_features])\n",
    "temp[transformed_cols] = pt.fit_transform(train[interest_features])\n",
    "test[interest_features] = pt.transform(test[interest_features])"
   ]
  },
  {
   "cell_type": "code",
   "execution_count": null,
   "metadata": {
    "execution": {
     "iopub.execute_input": "2025-05-06T07:42:33.715598Z",
     "iopub.status.busy": "2025-05-06T07:42:33.715246Z",
     "iopub.status.idle": "2025-05-06T07:42:36.720752Z",
     "shell.execute_reply": "2025-05-06T07:42:36.719551Z",
     "shell.execute_reply.started": "2025-05-06T07:42:33.715570Z"
    },
    "trusted": true
   },
   "outputs": [],
   "source": [
    "fig, axes = plt.subplots(nrows=7, ncols=2, figsize=(15, 30))\n",
    "for i, col in enumerate(interest_features):\n",
    "    # Scatter before\n",
    "    axes[i, 0].scatter(train[col], train['SalePrice'], alpha=0.5, color='blue', marker='x')\n",
    "    axes[i, 0].set_title(f\"{col} vs SalePrice (Before)\")\n",
    "    axes[i, 0].set_xlabel(col)\n",
    "    axes[i, 0].set_ylabel('SalePrice')\n",
    "    \n",
    "    # Scatter after\n",
    "    axes[i, 1].scatter(temp[f\"{col}_transformed\"], train['SalePrice'], alpha=0.5, color='red', marker='x')\n",
    "    axes[i, 1].set_title(f\"{col}_transformed vs SalePrice (After)\")\n",
    "    axes[i, 1].set_xlabel(f\"{col}_transformed\")\n",
    "    axes[i, 1].set_ylabel('SalePrice')\n",
    "\n",
    "plt.tight_layout()\n",
    "plt.show()"
   ]
  },
  {
   "cell_type": "code",
   "execution_count": null,
   "metadata": {
    "execution": {
     "iopub.execute_input": "2025-05-06T07:42:36.722128Z",
     "iopub.status.busy": "2025-05-06T07:42:36.721814Z",
     "iopub.status.idle": "2025-05-06T07:42:36.726976Z",
     "shell.execute_reply": "2025-05-06T07:42:36.725985Z",
     "shell.execute_reply.started": "2025-05-06T07:42:36.722103Z"
    },
    "trusted": true
   },
   "outputs": [],
   "source": [
    "num_features = ['GrLivArea', 'GarageArea', 'TotalBsmtSF']"
   ]
  },
  {
   "cell_type": "code",
   "execution_count": null,
   "metadata": {
    "execution": {
     "iopub.execute_input": "2025-05-06T07:42:36.728113Z",
     "iopub.status.busy": "2025-05-06T07:42:36.727891Z",
     "iopub.status.idle": "2025-05-06T07:42:45.588413Z",
     "shell.execute_reply": "2025-05-06T07:42:45.587353Z",
     "shell.execute_reply.started": "2025-05-06T07:42:36.728094Z"
    },
    "trusted": true
   },
   "outputs": [],
   "source": [
    "plt.figure(figsize=(20, len(cat_nom_features + cat_ord_features) * 3))\n",
    "for idx, col in enumerate(cat_nom_features + cat_ord_features, 1):\n",
    "    plt.subplot(len(cat_nom_features + cat_ord_features), 2, idx)\n",
    "    ax = sns.countplot(data=train, x=col, order=train[col].value_counts().index, orient='y')\n",
    "    ax.bar_label(ax.containers[0])\n",
    "    plt.title(f\"{col} Distribution\")\n",
    "    plt.xlabel(f\"{col}\")\n",
    "    plt.ylabel(f\"Count\")\n",
    "    plt.xticks(rotation=90)\n",
    "plt.tight_layout()\n",
    "plt.show()"
   ]
  },
  {
   "cell_type": "code",
   "execution_count": null,
   "metadata": {
    "execution": {
     "iopub.execute_input": "2025-05-06T07:42:45.589622Z",
     "iopub.status.busy": "2025-05-06T07:42:45.589340Z",
     "iopub.status.idle": "2025-05-06T07:42:45.595296Z",
     "shell.execute_reply": "2025-05-06T07:42:45.593393Z",
     "shell.execute_reply.started": "2025-05-06T07:42:45.589600Z"
    },
    "trusted": true
   },
   "outputs": [],
   "source": [
    "cat_features = ['MSSubClass', 'Neighborhood', 'HouseStyle', 'GarageFinish', 'OverallQual', 'BsmtFinType1', 'HeatingQC']\n"
   ]
  },
  {
   "cell_type": "code",
   "execution_count": null,
   "metadata": {
    "execution": {
     "iopub.execute_input": "2025-05-06T07:42:45.597338Z",
     "iopub.status.busy": "2025-05-06T07:42:45.597000Z",
     "iopub.status.idle": "2025-05-06T07:42:47.504838Z",
     "shell.execute_reply": "2025-05-06T07:42:47.503527Z",
     "shell.execute_reply.started": "2025-05-06T07:42:45.597311Z"
    },
    "trusted": true
   },
   "outputs": [],
   "source": [
    "plt.figure(figsize=(12, len(cat_features) * 5))\n",
    "for idx, col in enumerate(cat_features, 1):\n",
    "    plt.subplot(len(cat_features), 2, idx)\n",
    "    plt.Figure(figsize=(15, 12))\n",
    "    sns.boxplot(data=train, x=col, y='SalePrice')\n",
    "    plt.title(f\"SalePrice Vs. {col}\")\n",
    "    plt.xlabel(col)\n",
    "    plt.ylabel('SalePrice')\n",
    "    plt.xticks(rotation=90)\n",
    "plt.tight_layout()\n",
    "plt.show()"
   ]
  },
  {
   "cell_type": "code",
   "execution_count": null,
   "metadata": {
    "execution": {
     "iopub.execute_input": "2025-05-06T07:42:47.506281Z",
     "iopub.status.busy": "2025-05-06T07:42:47.505960Z",
     "iopub.status.idle": "2025-05-06T07:42:47.511379Z",
     "shell.execute_reply": "2025-05-06T07:42:47.510297Z",
     "shell.execute_reply.started": "2025-05-06T07:42:47.506255Z"
    },
    "trusted": true
   },
   "outputs": [],
   "source": [
    "cat_features = ['Neighborhood', 'GarageFinish', 'OverallQual']"
   ]
  },
  {
   "cell_type": "markdown",
   "metadata": {},
   "source": [
    "# Model Building"
   ]
  },
  {
   "cell_type": "code",
   "execution_count": null,
   "metadata": {
    "execution": {
     "iopub.execute_input": "2025-05-06T07:42:47.512672Z",
     "iopub.status.busy": "2025-05-06T07:42:47.512322Z",
     "iopub.status.idle": "2025-05-06T07:42:47.534635Z",
     "shell.execute_reply": "2025-05-06T07:42:47.533673Z",
     "shell.execute_reply.started": "2025-05-06T07:42:47.512639Z"
    },
    "trusted": true
   },
   "outputs": [],
   "source": [
    "X_train, y_train = train[num_features + cat_features].copy(deep=True), train['SalePrice']\n",
    "X_test = test[num_features + cat_features].copy(deep=True)\n",
    "print(f\"[Train]: {X_train.shape}, {y_train.shape}\")\n",
    "print(f\"[Test]: {X_test.shape}\")"
   ]
  },
  {
   "cell_type": "code",
   "execution_count": null,
   "metadata": {
    "execution": {
     "iopub.execute_input": "2025-05-06T07:42:47.536224Z",
     "iopub.status.busy": "2025-05-06T07:42:47.535831Z",
     "iopub.status.idle": "2025-05-06T07:42:47.582745Z",
     "shell.execute_reply": "2025-05-06T07:42:47.581704Z",
     "shell.execute_reply.started": "2025-05-06T07:42:47.536179Z"
    },
    "trusted": true
   },
   "outputs": [],
   "source": [
    "X_train['AbvGrdTotalSF'] = (train['LotFrontage'] + train['LotArea'] + \n",
    "                            train['MasVnrArea'] + train['1stFlrSF'] + \n",
    "                            train['2ndFlrSF'] + train['GrLivArea'] + \n",
    "                            train['TotRmsAbvGrd'] + train['GarageArea'].where(train['GarageType'] != 'Basement', 0).fillna(0) + \n",
    "                            train['WoodDeckSF'] + train['OpenPorchSF'] + \n",
    "                            train['EnclosedPorch'] + train['3SsnPorch'] + \n",
    "                            train['ScreenPorch'] + train['PoolArea'])\n",
    "X_test['AbvGrdTotalSF'] = (test['LotFrontage'] + test['LotArea'] + \n",
    "                           test['MasVnrArea'] + test['1stFlrSF'] + \n",
    "                           test['2ndFlrSF'] + test['GrLivArea'] + \n",
    "                           test['TotRmsAbvGrd'] + test['GarageArea'].where(test['GarageType'] != 'Basement', 0).fillna(0) + \n",
    "                           test['WoodDeckSF'] + test['OpenPorchSF'] + \n",
    "                           test['EnclosedPorch'] + test['3SsnPorch'] + \n",
    "                           test['ScreenPorch'] + test['PoolArea'])\n",
    "\n",
    "X_train['BsmtTotalSF'] = (train['BsmtFinSF1'] + train['BsmtFinSF2'] + \n",
    "                          train['BsmtUnfSF'] + train['TotalBsmtSF'] + \n",
    "                          train['GarageArea'].where(train['GarageType'] != 'Basement', 0).fillna(0))\n",
    "X_test['BsmtTotalSF'] = (test['BsmtFinSF1'] + test['BsmtFinSF2'] + \n",
    "                         test['BsmtUnfSF'] + test['TotalBsmtSF'] + \n",
    "                         test['GarageArea'].where(test['GarageType'] != 'Basement', 0).fillna(0))\n",
    "\n",
    "X_train['PorchTotalSF'] = (train['WoodDeckSF'] + train['OpenPorchSF'] + \n",
    "                           train['EnclosedPorch'] + train['3SsnPorch'] + \n",
    "                           train['ScreenPorch'])\n",
    "X_test['PorchTotalSF'] = (test['WoodDeckSF'] + test['OpenPorchSF'] + \n",
    "                          test['EnclosedPorch'] + test['3SsnPorch'] + \n",
    "                          test['ScreenPorch'])\n",
    "\n",
    "X_train['BathTotal'] = ((train['BsmtFullBath'] + (0.5 * train['BsmtHalfBath'])) + \n",
    "                        (train['FullBath'] + (0.5 * train['HalfBath'])))\n",
    "X_test['BathTotal'] = ((test['BsmtFullBath'] + (0.5 * test['BsmtHalfBath'])) + \n",
    "                       (test['FullBath'] + (0.5 * test['HalfBath'])))\n",
    "\n",
    "X_train['HasMasVnr'] = (train['MasVnrArea'] > 0).astype(int)\n",
    "X_test['HasMasVnr'] = (test['MasVnrArea'] > 0).astype(int)\n",
    "category_nominal_dictionary['HasMasVnr'] = [0, 1]\n",
    "\n",
    "X_train['HasWoodDeck'] = (train['WoodDeckSF'] > 0).astype(int)\n",
    "X_test['HasWoodDeck'] = (test['WoodDeckSF'] > 0).astype(int)\n",
    "category_nominal_dictionary['HasWoodDeck'] = [0, 1]\n",
    "\n",
    "X_train['HasOpenPorch'] = (train['OpenPorchSF'] > 0).astype(int)\n",
    "X_test['HasOpenPorch'] = (test['OpenPorchSF'] > 0).astype(int)\n",
    "category_nominal_dictionary['HasOpenPorch'] = [0, 1]\n",
    "\n",
    "X_train['HasEnclosedPorch'] = (train['EnclosedPorch'] > 0).astype(int)\n",
    "X_test['HasEnclosedPorch'] = (test['EnclosedPorch'] > 0).astype(int)\n",
    "category_nominal_dictionary['HasEnclosedPorch'] = [0, 1]\n",
    "\n",
    "X_train['Has3SsnPorch'] = (train['3SsnPorch'] > 0).astype(int)\n",
    "X_test['Has3SsnPorch'] = (test['3SsnPorch'] > 0).astype(int)\n",
    "category_nominal_dictionary['Has3SsnPorch'] = [0, 1]\n",
    "\n",
    "X_train['HasScreenPorch'] = (train['ScreenPorch'] > 0).astype(int)\n",
    "X_test['HasScreenPorch'] = (test['ScreenPorch'] > 0).astype(int)\n",
    "category_nominal_dictionary['HasScreenPorch'] = [0, 1]\n",
    "\n",
    "X_train['HasPool'] = (train['PoolArea'] > 0).astype(int)\n",
    "X_test['HasPool'] = (test['PoolArea'] > 0).astype(int)\n",
    "category_nominal_dictionary['HasPool'] = [0, 1]\n",
    "\n",
    "X_train['HasGarage'] = (train['GarageArea'] > 0).astype(int)\n",
    "X_test['HasGarage'] = (test['GarageArea'] > 0).astype(int)\n",
    "category_nominal_dictionary['HasGarage'] = [0, 1]\n",
    "\n",
    "X_train['Has2ndFlr'] = (train['2ndFlrSF'] > 0).astype(int)\n",
    "X_test['Has2ndFlr'] = (test['2ndFlrSF'] > 0).astype(int)\n",
    "category_nominal_dictionary['Has2ndFlr'] = [0, 1]\n",
    "\n",
    "num_features.extend(['AbvGrdTotalSF', 'BsmtTotalSF', 'PorchTotalSF', 'BathTotal'])\n",
    "cat_nom_features.extend(['HasMasVnr', 'HasWoodDeck', 'HasOpenPorch', 'HasEnclosedPorch', 'Has3SsnPorch', 'HasScreenPorch', 'HasPool', 'HasGarage', 'Has2ndFlr'])"
   ]
  },
  {
   "cell_type": "code",
   "execution_count": null,
   "metadata": {
    "execution": {
     "iopub.execute_input": "2025-05-06T07:42:47.583794Z",
     "iopub.status.busy": "2025-05-06T07:42:47.583508Z",
     "iopub.status.idle": "2025-05-06T07:42:47.589207Z",
     "shell.execute_reply": "2025-05-06T07:42:47.588194Z",
     "shell.execute_reply.started": "2025-05-06T07:42:47.583771Z"
    },
    "trusted": true
   },
   "outputs": [],
   "source": [
    "print(f\"[Train]: {X_train.shape}, {y_train.shape}\")\n",
    "print(f\"[Test]: {X_test.shape}\")"
   ]
  },
  {
   "cell_type": "code",
   "execution_count": null,
   "metadata": {
    "execution": {
     "iopub.execute_input": "2025-05-06T07:42:47.590314Z",
     "iopub.status.busy": "2025-05-06T07:42:47.590048Z",
     "iopub.status.idle": "2025-05-06T07:42:47.628417Z",
     "shell.execute_reply": "2025-05-06T07:42:47.627286Z",
     "shell.execute_reply.started": "2025-05-06T07:42:47.590282Z"
    },
    "trusted": true
   },
   "outputs": [],
   "source": [
    "nom_cat = [col for col in X_train.columns if col in cat_nom_features]\n",
    "ohe = OneHotEncoder(categories = [category_nominal_dictionary[col] for col in nom_cat], \n",
    "                    handle_unknown='error', \n",
    "                    sparse=False)\n",
    "\n",
    "X_tr = ohe.fit_transform(X_train[nom_cat])\n",
    "X_te = ohe.transform(X_test[nom_cat])\n",
    "\n",
    "dummy_cols = ohe.get_feature_names_out(nom_cat)\n",
    "X_tr_df = pd.DataFrame(X_tr, columns=dummy_cols, index=X_train.index)\n",
    "X_te_df = pd.DataFrame(X_te, columns=dummy_cols, index=X_test.index)\n",
    "\n",
    "X_train = pd.concat([X_train.drop(columns=nom_cat), X_tr_df], axis=1)\n",
    "X_test  = pd.concat([X_test.drop(columns=nom_cat), X_te_df],  axis=1)"
   ]
  },
  {
   "cell_type": "code",
   "execution_count": null,
   "metadata": {
    "execution": {
     "iopub.execute_input": "2025-05-06T07:42:47.629808Z",
     "iopub.status.busy": "2025-05-06T07:42:47.629515Z",
     "iopub.status.idle": "2025-05-06T07:42:47.641220Z",
     "shell.execute_reply": "2025-05-06T07:42:47.639762Z",
     "shell.execute_reply.started": "2025-05-06T07:42:47.629785Z"
    },
    "trusted": true
   },
   "outputs": [],
   "source": [
    "ord_cat = [col for col in X_train.columns if col in cat_ord_features]\n",
    "oe = OrdinalEncoder(categories=[category_ordinal_dictionary[col] for col in ord_cat],\n",
    "                            handle_unknown='use_encoded_value',\n",
    "                            unknown_value=-1)\n",
    "\n",
    "X_train[ord_cat] = oe.fit_transform(X_train[ord_cat])\n",
    "X_test[ord_cat] = oe.transform(X_test[ord_cat])"
   ]
  },
  {
   "cell_type": "code",
   "execution_count": null,
   "metadata": {
    "execution": {
     "iopub.execute_input": "2025-05-06T07:42:47.642704Z",
     "iopub.status.busy": "2025-05-06T07:42:47.642374Z",
     "iopub.status.idle": "2025-05-06T07:42:47.669417Z",
     "shell.execute_reply": "2025-05-06T07:42:47.668410Z",
     "shell.execute_reply.started": "2025-05-06T07:42:47.642679Z"
    },
    "trusted": true
   },
   "outputs": [],
   "source": [
    "num_scaler = RobustScaler()\n",
    "X_train[num_features] = num_scaler.fit_transform(X_train[num_features])\n",
    "X_test[num_features] = num_scaler.transform(X_test[num_features])"
   ]
  },
  {
   "cell_type": "code",
   "execution_count": null,
   "metadata": {
    "execution": {
     "iopub.execute_input": "2025-05-06T07:42:47.670841Z",
     "iopub.status.busy": "2025-05-06T07:42:47.670478Z",
     "iopub.status.idle": "2025-05-06T07:42:47.676293Z",
     "shell.execute_reply": "2025-05-06T07:42:47.675292Z",
     "shell.execute_reply.started": "2025-05-06T07:42:47.670804Z"
    },
    "trusted": true
   },
   "outputs": [],
   "source": [
    "print(f\"[Train]: {X_train.shape}, {y_train.shape}\")\n",
    "print(f\"[Test]: {X_test.shape}\")"
   ]
  },
  {
   "cell_type": "code",
   "execution_count": null,
   "metadata": {
    "execution": {
     "iopub.execute_input": "2025-05-06T07:42:49.195016Z",
     "iopub.status.busy": "2025-05-06T07:42:49.194775Z",
     "iopub.status.idle": "2025-05-06T07:42:50.686566Z",
     "shell.execute_reply": "2025-05-06T07:42:50.685924Z",
     "shell.execute_reply.started": "2025-05-06T07:42:49.194996Z"
    },
    "trusted": true
   },
   "outputs": [],
   "source": [
    "results = pd.DataFrame(columns=['Model', 'RMSE Train'])\n",
    "models = {\n",
    "    'ElasticNet (default)': ElasticNet(random_state=42),\n",
    "    'RandomForest (default)': RandomForestRegressor(random_state=42),\n",
    "    'XGBoost (default)': XGBRegressor(random_state=42)\n",
    "}\n",
    "\n",
    "for name, model in models.items():\n",
    "    model.fit(X_train, y_train)\n",
    "    y_pred = model.predict(X_train)\n",
    "    rmse_train = np.sqrt(mean_squared_error(y_train, y_pred))\n",
    "    \n",
    "    new_row = pd.DataFrame([{'Model': name, 'RMSE Train': rmse_train}])\n",
    "    results = pd.concat([results, new_row], ignore_index=True)\n",
    "\n",
    "# Show results\n",
    "results.sort_values(by='RMSE Train', ascending=True, inplace=True)\n",
    "results.reset_index(drop=True, inplace=True)\n",
    "print(results)"
   ]
  },
  {
   "cell_type": "code",
   "execution_count": null,
   "metadata": {
    "execution": {
     "iopub.execute_input": "2025-05-06T07:51:08.489051Z",
     "iopub.status.busy": "2025-05-06T07:51:08.488479Z",
     "iopub.status.idle": "2025-05-06T07:51:10.156659Z",
     "shell.execute_reply": "2025-05-06T07:51:10.155896Z",
     "shell.execute_reply.started": "2025-05-06T07:51:08.489004Z"
    },
    "trusted": true
   },
   "outputs": [],
   "source": [
    "test.reset_index(inplace=True)"
   ]
  },
  {
   "cell_type": "markdown",
   "metadata": {},
   "source": [
    "## RandomForest"
   ]
  },
  {
   "cell_type": "code",
   "execution_count": null,
   "metadata": {
    "_kg_hide-output": true,
    "execution": {
     "iopub.execute_input": "2025-05-06T08:20:36.766543Z",
     "iopub.status.busy": "2025-05-06T08:20:36.766176Z",
     "iopub.status.idle": "2025-05-06T09:03:26.755495Z",
     "shell.execute_reply": "2025-05-06T09:03:26.754523Z",
     "shell.execute_reply.started": "2025-05-06T08:20:36.766515Z"
    },
    "trusted": true
   },
   "outputs": [],
   "source": [
    "# Define model and parameter search space\n",
    "rf_model = RandomForestRegressor(random_state=42)\n",
    "\n",
    "rf_search_space = {\n",
    "    'n_estimators': Integer(100, 10000),\n",
    "    'max_depth': Integer(3, 30),\n",
    "    'min_samples_split': Integer(2, 10),\n",
    "    'min_samples_leaf': Integer(1, 10),\n",
    "    'max_features': Categorical(['auto', 'sqrt', 'log2'])\n",
    "}\n",
    "\n",
    "# Bayesian optimization with cross-validation\n",
    "rf_opt = BayesSearchCV(\n",
    "    estimator=rf_model,\n",
    "    search_spaces=rf_search_space,\n",
    "    scoring='neg_root_mean_squared_error',\n",
    "    cv=KFold(n_splits=5, shuffle=True, random_state=42),\n",
    "    n_iter=50,\n",
    "    n_jobs=-1,\n",
    "    random_state=42,\n",
    "    verbose=0\n",
    ")\n",
    "\n",
    "rf_opt.fit(X_train, y_train)\n",
    "print(\"Training Complete\", rf_opt.best_params_)\n",
    "\n",
    "preds = rf_opt.predict(X_test)\n",
    "y_pred = pd.DataFrame({'Id': test['Id'],'SalePrice': preds})\n",
    "y_pred.to_csv('submission_rf.csv', index=False)\n"
   ]
  },
  {
   "cell_type": "code",
   "execution_count": null,
   "metadata": {
    "execution": {
     "iopub.execute_input": "2025-05-06T09:08:11.241126Z",
     "iopub.status.busy": "2025-05-06T09:08:11.240722Z",
     "iopub.status.idle": "2025-05-06T09:08:12.023485Z",
     "shell.execute_reply": "2025-05-06T09:08:12.022486Z",
     "shell.execute_reply.started": "2025-05-06T09:08:11.241096Z"
    },
    "trusted": true
   },
   "outputs": [],
   "source": [
    "importances_rf = rf_opt.best_estimator_.feature_importances_\n",
    "features_rf = pd.Series(importances_rf, index=X_train.columns)\n",
    "top_20_rf = features_rf.sort_values(ascending=False).head(30)\n",
    "\n",
    "# Display top 20\n",
    "top_20_rf.plot(kind='barh', title='Top 20 Features - Random Forest', figsize=(8,6))\n",
    "plt.gca().invert_yaxis()\n",
    "plt.xlabel(\"Importance\")\n",
    "plt.show()"
   ]
  },
  {
   "cell_type": "code",
   "execution_count": null,
   "metadata": {
    "execution": {
     "iopub.execute_input": "2025-05-06T09:06:51.407381Z",
     "iopub.status.busy": "2025-05-06T09:06:51.406726Z",
     "iopub.status.idle": "2025-05-06T09:06:53.162866Z",
     "shell.execute_reply": "2025-05-06T09:06:53.161728Z",
     "shell.execute_reply.started": "2025-05-06T09:06:51.407344Z"
    },
    "trusted": true
   },
   "outputs": [],
   "source": [
    "results = pd.concat([results, pd.DataFrame({'Model': 'RandomForest (skopt)', 'RMSE Train': np.sqrt(mean_squared_error(y_train, rf_opt.predict(X_train)))}, index=[0])])\n",
    "results"
   ]
  },
  {
   "cell_type": "markdown",
   "metadata": {},
   "source": [
    "## XGBoost"
   ]
  },
  {
   "cell_type": "code",
   "execution_count": null,
   "metadata": {
    "_kg_hide-output": true,
    "execution": {
     "iopub.execute_input": "2025-05-06T09:10:40.199752Z",
     "iopub.status.busy": "2025-05-06T09:10:40.198519Z",
     "iopub.status.idle": "2025-05-06T09:14:45.131247Z",
     "shell.execute_reply": "2025-05-06T09:14:45.130328Z",
     "shell.execute_reply.started": "2025-05-06T09:10:40.199701Z"
    },
    "trusted": true
   },
   "outputs": [],
   "source": [
    "xgb_model = XGBRegressor(random_state=42, objective='reg:squarederror')\n",
    "\n",
    "xgb_search_space = {\n",
    "    'n_estimators': Integer(100, 1000),\n",
    "    'max_depth': Integer(3, 10),\n",
    "    'learning_rate': Real(0.01, 0.3, prior='log-uniform'),\n",
    "    'subsample': Real(0.5, 1.0),\n",
    "    'colsample_bytree': Real(0.5, 1.0)\n",
    "}\n",
    "\n",
    "xgb_opt = BayesSearchCV(\n",
    "    estimator=xgb_model,\n",
    "    search_spaces=xgb_search_space,\n",
    "    scoring='neg_root_mean_squared_error',\n",
    "    cv=KFold(n_splits=5, shuffle=True, random_state=42),\n",
    "    n_iter=50,\n",
    "    n_jobs=-1,\n",
    "    random_state=42,\n",
    "    verbose=0\n",
    ")\n",
    "\n",
    "xgb_opt.fit(X_train, y_train)\n",
    "print(\"Training Complete\", xgb_opt.best_params_)\n",
    "\n",
    "preds = xgb_opt.predict(X_test)\n",
    "y_pred = pd.DataFrame({'Id': test['Id'], 'SalePrice': preds})\n",
    "y_pred.to_csv('submission_xgb.csv', index=False)\n"
   ]
  },
  {
   "cell_type": "code",
   "execution_count": null,
   "metadata": {
    "execution": {
     "iopub.execute_input": "2025-05-06T09:14:57.495285Z",
     "iopub.status.busy": "2025-05-06T09:14:57.494857Z",
     "iopub.status.idle": "2025-05-06T09:14:57.787803Z",
     "shell.execute_reply": "2025-05-06T09:14:57.786828Z",
     "shell.execute_reply.started": "2025-05-06T09:14:57.495247Z"
    },
    "trusted": true
   },
   "outputs": [],
   "source": [
    "# Assuming xgb_opt is your BayesSearchCV-trained XGBoost model\n",
    "importances_xgb = xgb_opt.best_estimator_.feature_importances_\n",
    "features_xgb = pd.Series(importances_xgb, index=X_train.columns)\n",
    "top_20_xgb = features_xgb.sort_values(ascending=False).head(20)\n",
    "\n",
    "# Display top 20\n",
    "top_20_xgb.plot(kind='barh', title='Top 20 Features - XGBoost', figsize=(8,6))\n",
    "plt.gca().invert_yaxis()\n",
    "plt.xlabel(\"Importance\")\n",
    "plt.show()\n"
   ]
  },
  {
   "cell_type": "code",
   "execution_count": null,
   "metadata": {
    "execution": {
     "iopub.execute_input": "2025-05-06T09:15:02.807618Z",
     "iopub.status.busy": "2025-05-06T09:15:02.806061Z",
     "iopub.status.idle": "2025-05-06T09:15:02.838513Z",
     "shell.execute_reply": "2025-05-06T09:15:02.837677Z",
     "shell.execute_reply.started": "2025-05-06T09:15:02.807573Z"
    },
    "trusted": true
   },
   "outputs": [],
   "source": [
    "results = pd.concat([results, pd.DataFrame({'Model': 'XGBoost (skopt)', 'RMSE Train': np.sqrt(mean_squared_error(y_train, xgb_opt.predict(X_train)))}, index=[0])])\n",
    "results.sort_values(by='RMSE Train', ascending=True, inplace=True)\n",
    "results.reset_index(drop=True, inplace=True)\n",
    "results"
   ]
  },
  {
   "cell_type": "markdown",
   "metadata": {},
   "source": [
    "## Ensemble"
   ]
  },
  {
   "cell_type": "markdown",
   "metadata": {},
   "source": [
    "### Simple Average"
   ]
  },
  {
   "cell_type": "code",
   "execution_count": null,
   "metadata": {
    "execution": {
     "iopub.execute_input": "2025-05-06T09:27:03.150259Z",
     "iopub.status.busy": "2025-05-06T09:27:03.149878Z",
     "iopub.status.idle": "2025-05-06T09:27:05.956364Z",
     "shell.execute_reply": "2025-05-06T09:27:05.955660Z",
     "shell.execute_reply.started": "2025-05-06T09:27:03.150233Z"
    },
    "trusted": true
   },
   "outputs": [],
   "source": [
    "preds_rf = rf_opt.predict(X_train)\n",
    "preds_xgb = xgb_opt.predict(X_train)\n",
    "results = pd.concat([results, pd.DataFrame({'Model': 'Simple Average Ensemble', 'RMSE Train': np.sqrt(mean_squared_error(y_train, (preds_rf + preds_xgb) / 2))}, index=[0])])\n",
    "\n",
    "\n",
    "preds_rf = rf_opt.predict(X_test)\n",
    "preds_xgb = xgb_opt.predict(X_test)\n",
    "\n",
    "preds_ensemble = (preds_rf + preds_xgb) / 3\n",
    "\n",
    "submission = pd.DataFrame({\n",
    "    'Id': test['Id'],\n",
    "    'SalePrice': preds_ensemble\n",
    "})\n",
    "submission.to_csv('submission_simple_average.csv', index=False)"
   ]
  },
  {
   "cell_type": "markdown",
   "metadata": {},
   "source": [
    "### Weighted Average"
   ]
  },
  {
   "cell_type": "code",
   "execution_count": null,
   "metadata": {
    "execution": {
     "iopub.execute_input": "2025-05-06T09:27:09.974060Z",
     "iopub.status.busy": "2025-05-06T09:27:09.973713Z",
     "iopub.status.idle": "2025-05-06T09:27:12.701785Z",
     "shell.execute_reply": "2025-05-06T09:27:12.700951Z",
     "shell.execute_reply.started": "2025-05-06T09:27:09.974036Z"
    },
    "trusted": true
   },
   "outputs": [],
   "source": [
    "w_rf, w_xgb = 0.6, 0.4\n",
    "\n",
    "preds_rf = rf_opt.predict(X_train)\n",
    "preds_xgb = xgb_opt.predict(X_train)\n",
    "preds_ensemble = (w_rf * preds_rf) + (w_xgb * preds_xgb)\n",
    "results = pd.concat([results, pd.DataFrame({'Model': 'Weighted Average Ensemble (6, 4)', 'RMSE Train': np.sqrt(mean_squared_error(y_train, preds_ensemble))}, index=[0])])\n",
    "\n",
    "\n",
    "preds_rf = rf_opt.predict(X_test)\n",
    "preds_xgb = xgb_opt.predict(X_test)\n",
    "preds_ensemble = (w_rf * preds_rf) + (w_xgb * preds_xgb)\n",
    "\n",
    "submission = pd.DataFrame({\n",
    "    'Id': test['Id'],\n",
    "    'SalePrice': preds_ensemble\n",
    "})\n",
    "submission.to_csv('submission_weighted_average_6_4.csv', index=False)"
   ]
  },
  {
   "cell_type": "code",
   "execution_count": null,
   "metadata": {
    "execution": {
     "iopub.execute_input": "2025-05-06T09:27:22.540920Z",
     "iopub.status.busy": "2025-05-06T09:27:22.540578Z",
     "iopub.status.idle": "2025-05-06T09:27:22.552211Z",
     "shell.execute_reply": "2025-05-06T09:27:22.551145Z",
     "shell.execute_reply.started": "2025-05-06T09:27:22.540894Z"
    },
    "trusted": true
   },
   "outputs": [],
   "source": [
    "results.sort_values(by='RMSE Train', ascending=True, inplace=True)\n",
    "results.reset_index(drop=True, inplace=True)\n",
    "results"
   ]
  },
  {
   "cell_type": "code",
   "execution_count": null,
   "metadata": {
    "trusted": true
   },
   "outputs": [],
   "source": []
  },
  {
   "cell_type": "code",
   "execution_count": null,
   "metadata": {
    "trusted": true
   },
   "outputs": [],
   "source": []
  }
 ],
 "metadata": {
  "kaggle": {
   "accelerator": "none",
   "dataSources": [
    {
     "databundleVersionId": 868283,
     "sourceId": 5407,
     "sourceType": "competition"
    }
   ],
   "dockerImageVersionId": 31012,
   "isGpuEnabled": false,
   "isInternetEnabled": true,
   "language": "python",
   "sourceType": "notebook"
  },
  "kernelspec": {
   "display_name": "Python 3",
   "language": "python",
   "name": "python3"
  },
  "language_info": {
   "codemirror_mode": {
    "name": "ipython",
    "version": 3
   },
   "file_extension": ".py",
   "mimetype": "text/x-python",
   "name": "python",
   "nbconvert_exporter": "python",
   "pygments_lexer": "ipython3",
   "version": "3.11.11"
  }
 },
 "nbformat": 4,
 "nbformat_minor": 4
}
